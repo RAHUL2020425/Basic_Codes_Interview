{
 "cells": [
  {
   "cell_type": "code",
   "execution_count": 1,
   "id": "1324dd9d",
   "metadata": {},
   "outputs": [],
   "source": [
    "import pandas as pd\n",
    "import numpy as np\n",
    "import math"
   ]
  },
  {
   "cell_type": "code",
   "execution_count": 97,
   "id": "6269bd42",
   "metadata": {},
   "outputs": [],
   "source": [
    "picture = [ [0,0,0,1,0,0,0], [0,0,1,1,1,0,0], [0,1,1,1,1,1,0], [1,1,1,1,1,1,1], [0,0,0,1,0,0,0], [0,0,0,1,0,0,0] ]"
   ]
  },
  {
   "cell_type": "code",
   "execution_count": 148,
   "id": "755102a7",
   "metadata": {},
   "outputs": [
    {
     "name": "stdout",
     "output_type": "stream",
     "text": [
      " \n",
      "   *    \n",
      "  ***   \n",
      " *****  \n",
      "******* \n",
      "   *    \n",
      "   *   "
     ]
    }
   ],
   "source": [
    "## Code for palindrome print##\n",
    "for item in picture:\n",
    "    print(\" \") ## it will chnage the line\n",
    "    for item1 in item:\n",
    "        if item1:\n",
    "            print('*',end=\"\") ## it will not change the line \n",
    "        if item1+1==1:\n",
    "            print(\" \",end=\"\") ## it will not change the line\n",
    "   \n",
    "        \n",
    "            \n",
    "       "
   ]
  },
  {
   "cell_type": "code",
   "execution_count": null,
   "id": "0aa7a32b",
   "metadata": {},
   "outputs": [],
   "source": []
  }
 ],
 "metadata": {
  "kernelspec": {
   "display_name": "Python 3 (ipykernel)",
   "language": "python",
   "name": "python3"
  },
  "language_info": {
   "codemirror_mode": {
    "name": "ipython",
    "version": 3
   },
   "file_extension": ".py",
   "mimetype": "text/x-python",
   "name": "python",
   "nbconvert_exporter": "python",
   "pygments_lexer": "ipython3",
   "version": "3.9.12"
  }
 },
 "nbformat": 4,
 "nbformat_minor": 5
}
